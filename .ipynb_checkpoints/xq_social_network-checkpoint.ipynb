{
 "cells": [
  {
   "cell_type": "code",
   "execution_count": 1,
   "metadata": {
    "collapsed": true
   },
   "outputs": [],
   "source": [
    "import sqlite3\n",
    "import networkx as nx\n",
    "conn=sqlite3.connect('xqfriends_0504')\n",
    "cur=conn.cursor()\n",
    "def graph_from_data():\n",
    "    cur.execute('select * from Follow@')\n",
    "    g=nx.DiGraph(name='xq social network')\n",
    "    for i in cur.fetchall():\n",
    "        g.add_edge(i[0],i[1])\n",
    "    return g"
   ]
  },
  {
   "cell_type": "code",
   "execution_count": null,
   "metadata": {
    "collapsed": true
   },
   "outputs": [],
   "source": []
  }
 ],
 "metadata": {
  "kernelspec": {
   "display_name": "Python 3",
   "language": "python",
   "name": "python3"
  },
  "language_info": {
   "codemirror_mode": {
    "name": "ipython",
    "version": 3
   },
   "file_extension": ".py",
   "mimetype": "text/x-python",
   "name": "python",
   "nbconvert_exporter": "python",
   "pygments_lexer": "ipython3",
   "version": "3.6.1"
  }
 },
 "nbformat": 4,
 "nbformat_minor": 2
}
